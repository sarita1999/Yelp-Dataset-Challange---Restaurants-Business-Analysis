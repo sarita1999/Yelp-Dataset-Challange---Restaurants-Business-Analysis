{
 "cells": [
  {
   "cell_type": "code",
   "execution_count": 1,
   "metadata": {
    "collapsed": true
   },
   "outputs": [
    {
     "name": "stderr",
     "output_type": "stream",
     "text": [
      "[nltk_data] Downloading package stopwords to\n",
      "[nltk_data]     C:\\Users\\saram\\AppData\\Roaming\\nltk_data...\n",
      "[nltk_data]   Package stopwords is already up-to-date!\n"
     ]
    }
   ],
   "source": [
    "import pandas as pd\n",
    "import nltk\n",
    "from nltk.corpus import stopwords\n",
    "from sklearn.feature_extraction.text import CountVectorizer\n",
    "import string\n",
    "import numpy as np\n",
    "#add google drive\n",
    "import os\n",
    "import re\n",
    "nltk.download('stopwords')\n",
    "from nltk.stem import WordNetLemmatizer\n",
    "from nltk.corpus import wordnet"
   ]
  },
  {
   "cell_type": "markdown",
   "source": [
    "# 1. LOAD DATASET"
   ],
   "metadata": {
    "collapsed": false
   }
  },
  {
   "cell_type": "code",
   "execution_count": 2,
   "outputs": [
    {
     "data": {
      "text/plain": "                 business_id                           name  \\\n0     Pns2l4eNsfO8kk83dixA6A       Abby Rappoport, LAC, CMQ   \n1     mpf3x-BjTdTEA3yCZrAYPw                  The UPS Store   \n2     tUFrWirKiKi_TAnsVWINQQ                         Target   \n3     MTSW4McQd7CbVtyjqoe9mw             St Honore Pastries   \n4     mWMc6_wTdE0EUBKIGXDVfA       Perkiomen Valley Brewery   \n...                      ...                            ...   \n9995  Pdin4DKMYBbXLXanNDNwLQ          Knuckle Dusters Vapor   \n9996  N-4ZOrM_qAnzBiCsJ7-ENA          Ricky's All Day Grill   \n9997  KqvaJX11rb4Hp70D8Dw4oQ   Admirals Club PHL Terminal F   \n9998  Yv6HUVu7fRMnt_NtGdVQBw  Las Palmas Mexican Restaurant   \n9999  rwsVxJqln-0HZFg1zxWtwQ      Adams Printing & Graphics   \n\n                              address           city state postal_code  \\\n0              1616 Chapala St, Ste 2  Santa Barbara    CA       93101   \n1     87 Grasso Plaza Shopping Center         Affton    MO       63123   \n2                5255 E Broadway Blvd         Tucson    AZ       85711   \n3                         935 Race St   Philadelphia    PA       19107   \n4                       101 Walnut St     Green Lane    PA       18054   \n...                               ...            ...   ...         ...   \n9995           1100 E Plumb Ln, Ste B           Reno    NV       89502   \n9996           140 Street Albert Road      St Albert    AB     T8N 7C8   \n9997               8000 Essington Ave   Philadelphia    PA       19153   \n9998                    1905 Hayes St      Nashville    TN       37203   \n9999               430 E Gutierrez St  Santa Barbara    CA       93101   \n\n       latitude   longitude  stars  review_count  is_open  \\\n0     34.426679 -119.711197    5.0             7        0   \n1     38.551126  -90.335695    3.0            15        1   \n2     32.223236 -110.880452    3.5            22        0   \n3     39.955505  -75.155564    4.0            80        1   \n4     40.338183  -75.471659    4.5            13        1   \n...         ...         ...    ...           ...      ...   \n9995  39.505271 -119.785091    5.0            45        1   \n9996  53.620257 -113.611680    3.0            16        1   \n9997  39.880694  -75.237370    4.0            10        1   \n9998  36.152919  -86.798455    3.5           158        1   \n9999  34.420475 -119.688710    4.5             7        1   \n\n                                             attributes  \\\n0                         {'ByAppointmentOnly': 'True'}   \n1                {'BusinessAcceptsCreditCards': 'True'}   \n2     {'BikeParking': 'True', 'BusinessAcceptsCredit...   \n3     {'RestaurantsDelivery': 'False', 'OutdoorSeati...   \n4     {'BusinessAcceptsCreditCards': 'True', 'Wheelc...   \n...                                                 ...   \n9995  {'BusinessAcceptsCreditCards': 'True', 'BikePa...   \n9996  {'RestaurantsAttire': 'u'casual'', 'BikeParkin...   \n9997  {'Alcohol': ''full_bar'', 'HappyHour': 'False'...   \n9998  {'BusinessAcceptsCreditCards': 'True', 'Restau...   \n9999             {'BusinessAcceptsCreditCards': 'True'}   \n\n                                             categories  \\\n0     Doctors, Traditional Chinese Medicine, Naturop...   \n1     Shipping Centers, Local Services, Notaries, Ma...   \n2     Department Stores, Shopping, Fashion, Home & G...   \n3     Restaurants, Food, Bubble Tea, Coffee & Tea, B...   \n4                             Brewpubs, Breweries, Food   \n...                                                 ...   \n9995                Tobacco Shops, Shopping, Vape Shops   \n9996        Canadian (New), American (New), Restaurants   \n9997                   Bars, Nightlife, Airport Lounges   \n9998                               Restaurants, Mexican   \n9999  Professional Services, Local Services, Printin...   \n\n                                                  hours  \n0                                                  None  \n1     {'Monday': '0:0-0:0', 'Tuesday': '8:0-18:30', ...  \n2     {'Monday': '8:0-22:0', 'Tuesday': '8:0-22:0', ...  \n3     {'Monday': '7:0-20:0', 'Tuesday': '7:0-20:0', ...  \n4     {'Wednesday': '14:0-22:0', 'Thursday': '16:0-2...  \n...                                                 ...  \n9995  {'Monday': '0:0-0:0', 'Tuesday': '10:0-20:0', ...  \n9996                                               None  \n9997  {'Monday': '5:0-21:30', 'Tuesday': '5:0-21:30'...  \n9998  {'Monday': '0:0-0:0', 'Tuesday': '11:0-21:30',...  \n9999  {'Monday': '8:0-17:0', 'Tuesday': '8:0-17:0', ...  \n\n[10000 rows x 14 columns]",
      "text/html": "<div>\n<style scoped>\n    .dataframe tbody tr th:only-of-type {\n        vertical-align: middle;\n    }\n\n    .dataframe tbody tr th {\n        vertical-align: top;\n    }\n\n    .dataframe thead th {\n        text-align: right;\n    }\n</style>\n<table border=\"1\" class=\"dataframe\">\n  <thead>\n    <tr style=\"text-align: right;\">\n      <th></th>\n      <th>business_id</th>\n      <th>name</th>\n      <th>address</th>\n      <th>city</th>\n      <th>state</th>\n      <th>postal_code</th>\n      <th>latitude</th>\n      <th>longitude</th>\n      <th>stars</th>\n      <th>review_count</th>\n      <th>is_open</th>\n      <th>attributes</th>\n      <th>categories</th>\n      <th>hours</th>\n    </tr>\n  </thead>\n  <tbody>\n    <tr>\n      <th>0</th>\n      <td>Pns2l4eNsfO8kk83dixA6A</td>\n      <td>Abby Rappoport, LAC, CMQ</td>\n      <td>1616 Chapala St, Ste 2</td>\n      <td>Santa Barbara</td>\n      <td>CA</td>\n      <td>93101</td>\n      <td>34.426679</td>\n      <td>-119.711197</td>\n      <td>5.0</td>\n      <td>7</td>\n      <td>0</td>\n      <td>{'ByAppointmentOnly': 'True'}</td>\n      <td>Doctors, Traditional Chinese Medicine, Naturop...</td>\n      <td>None</td>\n    </tr>\n    <tr>\n      <th>1</th>\n      <td>mpf3x-BjTdTEA3yCZrAYPw</td>\n      <td>The UPS Store</td>\n      <td>87 Grasso Plaza Shopping Center</td>\n      <td>Affton</td>\n      <td>MO</td>\n      <td>63123</td>\n      <td>38.551126</td>\n      <td>-90.335695</td>\n      <td>3.0</td>\n      <td>15</td>\n      <td>1</td>\n      <td>{'BusinessAcceptsCreditCards': 'True'}</td>\n      <td>Shipping Centers, Local Services, Notaries, Ma...</td>\n      <td>{'Monday': '0:0-0:0', 'Tuesday': '8:0-18:30', ...</td>\n    </tr>\n    <tr>\n      <th>2</th>\n      <td>tUFrWirKiKi_TAnsVWINQQ</td>\n      <td>Target</td>\n      <td>5255 E Broadway Blvd</td>\n      <td>Tucson</td>\n      <td>AZ</td>\n      <td>85711</td>\n      <td>32.223236</td>\n      <td>-110.880452</td>\n      <td>3.5</td>\n      <td>22</td>\n      <td>0</td>\n      <td>{'BikeParking': 'True', 'BusinessAcceptsCredit...</td>\n      <td>Department Stores, Shopping, Fashion, Home &amp; G...</td>\n      <td>{'Monday': '8:0-22:0', 'Tuesday': '8:0-22:0', ...</td>\n    </tr>\n    <tr>\n      <th>3</th>\n      <td>MTSW4McQd7CbVtyjqoe9mw</td>\n      <td>St Honore Pastries</td>\n      <td>935 Race St</td>\n      <td>Philadelphia</td>\n      <td>PA</td>\n      <td>19107</td>\n      <td>39.955505</td>\n      <td>-75.155564</td>\n      <td>4.0</td>\n      <td>80</td>\n      <td>1</td>\n      <td>{'RestaurantsDelivery': 'False', 'OutdoorSeati...</td>\n      <td>Restaurants, Food, Bubble Tea, Coffee &amp; Tea, B...</td>\n      <td>{'Monday': '7:0-20:0', 'Tuesday': '7:0-20:0', ...</td>\n    </tr>\n    <tr>\n      <th>4</th>\n      <td>mWMc6_wTdE0EUBKIGXDVfA</td>\n      <td>Perkiomen Valley Brewery</td>\n      <td>101 Walnut St</td>\n      <td>Green Lane</td>\n      <td>PA</td>\n      <td>18054</td>\n      <td>40.338183</td>\n      <td>-75.471659</td>\n      <td>4.5</td>\n      <td>13</td>\n      <td>1</td>\n      <td>{'BusinessAcceptsCreditCards': 'True', 'Wheelc...</td>\n      <td>Brewpubs, Breweries, Food</td>\n      <td>{'Wednesday': '14:0-22:0', 'Thursday': '16:0-2...</td>\n    </tr>\n    <tr>\n      <th>...</th>\n      <td>...</td>\n      <td>...</td>\n      <td>...</td>\n      <td>...</td>\n      <td>...</td>\n      <td>...</td>\n      <td>...</td>\n      <td>...</td>\n      <td>...</td>\n      <td>...</td>\n      <td>...</td>\n      <td>...</td>\n      <td>...</td>\n      <td>...</td>\n    </tr>\n    <tr>\n      <th>9995</th>\n      <td>Pdin4DKMYBbXLXanNDNwLQ</td>\n      <td>Knuckle Dusters Vapor</td>\n      <td>1100 E Plumb Ln, Ste B</td>\n      <td>Reno</td>\n      <td>NV</td>\n      <td>89502</td>\n      <td>39.505271</td>\n      <td>-119.785091</td>\n      <td>5.0</td>\n      <td>45</td>\n      <td>1</td>\n      <td>{'BusinessAcceptsCreditCards': 'True', 'BikePa...</td>\n      <td>Tobacco Shops, Shopping, Vape Shops</td>\n      <td>{'Monday': '0:0-0:0', 'Tuesday': '10:0-20:0', ...</td>\n    </tr>\n    <tr>\n      <th>9996</th>\n      <td>N-4ZOrM_qAnzBiCsJ7-ENA</td>\n      <td>Ricky's All Day Grill</td>\n      <td>140 Street Albert Road</td>\n      <td>St Albert</td>\n      <td>AB</td>\n      <td>T8N 7C8</td>\n      <td>53.620257</td>\n      <td>-113.611680</td>\n      <td>3.0</td>\n      <td>16</td>\n      <td>1</td>\n      <td>{'RestaurantsAttire': 'u'casual'', 'BikeParkin...</td>\n      <td>Canadian (New), American (New), Restaurants</td>\n      <td>None</td>\n    </tr>\n    <tr>\n      <th>9997</th>\n      <td>KqvaJX11rb4Hp70D8Dw4oQ</td>\n      <td>Admirals Club PHL Terminal F</td>\n      <td>8000 Essington Ave</td>\n      <td>Philadelphia</td>\n      <td>PA</td>\n      <td>19153</td>\n      <td>39.880694</td>\n      <td>-75.237370</td>\n      <td>4.0</td>\n      <td>10</td>\n      <td>1</td>\n      <td>{'Alcohol': ''full_bar'', 'HappyHour': 'False'...</td>\n      <td>Bars, Nightlife, Airport Lounges</td>\n      <td>{'Monday': '5:0-21:30', 'Tuesday': '5:0-21:30'...</td>\n    </tr>\n    <tr>\n      <th>9998</th>\n      <td>Yv6HUVu7fRMnt_NtGdVQBw</td>\n      <td>Las Palmas Mexican Restaurant</td>\n      <td>1905 Hayes St</td>\n      <td>Nashville</td>\n      <td>TN</td>\n      <td>37203</td>\n      <td>36.152919</td>\n      <td>-86.798455</td>\n      <td>3.5</td>\n      <td>158</td>\n      <td>1</td>\n      <td>{'BusinessAcceptsCreditCards': 'True', 'Restau...</td>\n      <td>Restaurants, Mexican</td>\n      <td>{'Monday': '0:0-0:0', 'Tuesday': '11:0-21:30',...</td>\n    </tr>\n    <tr>\n      <th>9999</th>\n      <td>rwsVxJqln-0HZFg1zxWtwQ</td>\n      <td>Adams Printing &amp; Graphics</td>\n      <td>430 E Gutierrez St</td>\n      <td>Santa Barbara</td>\n      <td>CA</td>\n      <td>93101</td>\n      <td>34.420475</td>\n      <td>-119.688710</td>\n      <td>4.5</td>\n      <td>7</td>\n      <td>1</td>\n      <td>{'BusinessAcceptsCreditCards': 'True'}</td>\n      <td>Professional Services, Local Services, Printin...</td>\n      <td>{'Monday': '8:0-17:0', 'Tuesday': '8:0-17:0', ...</td>\n    </tr>\n  </tbody>\n</table>\n<p>10000 rows × 14 columns</p>\n</div>"
     },
     "metadata": {},
     "output_type": "display_data"
    },
    {
     "data": {
      "text/plain": "                   review_id                 user_id             business_id  \\\n0     KU_O5udG6zpxOg-VcAEodg  mh_-eMZ6K5RLWhZyISBhwA  XQfwVwDr-v0ZS3_CbbE5Xw   \n1     BiTunyQ73aT9WBnpR9DZGw  OyoGAe7OKpv6SyGZT5g77Q  7ATYjTIgM3jUlt4UM3IypQ   \n2     saUsX_uimxRlCVr67Z4Jig  8g_iMtfSiwikVnbP2etR0A  YjUWPpI6HXG530lwP-fb2A   \n3     AqPFMleE6RsU23_auESxiA  _7bHUi9Uuf5__HHc_Q8guQ  kxX2SOes4o-D3ZQBkiMRfA   \n4     Sx8TMOWLNuJBWer-0pcmoA  bcjbaE6dDog4jkNY91ncLQ  e4Vwtrqf-wpJfwesgvdgxQ   \n...                      ...                     ...                     ...   \n9995  ZcBtCA9jGhLfakf1jJ2BAg  yab1cq5yzrTHzoyz8LYqYQ  1-z7wd860Rii4kbEMCT8DA   \n9996  UIkEO-10J6Y99IhRqUflvg  lYAmgL_l7A3MPFYe1DYKrw  EpREWeEpmR8f1qLHzzF0AA   \n9997  S-NQM3Axcg8JS3MXHUIvyw  rE2WwfgJbYfvDwBlgq__dQ  dvidzWEPgTQPeBc8CUV2OQ   \n9998  ME79YrEhm2xe4IQy_0zkGw  OnIklvzKDpk1BduC84TrTA  2XYPFRm7teCUr3eGsB2-qw   \n9999  05oKtleZ-JFGD6qt47VQcg  p0MhNWkwOPBfRo8qUb7faw  rnaE88k8yV5pFAGJeiIK4Q   \n\n      stars  useful  funny  cool  \\\n0         3       0      0     0   \n1         5       1      0     1   \n2         3       0      0     0   \n3         5       1      0     1   \n4         4       1      0     1   \n...     ...     ...    ...   ...   \n9995      5       0      0     0   \n9996      5       0      1     0   \n9997      5       0      0     0   \n9998      5       0      0     0   \n9999      2       0      0     0   \n\n                                                   text                date  \n0     If you decide to eat here, just be aware it is... 2018-07-07 22:09:11  \n1     I've taken a lot of spin classes over the year... 2012-01-03 15:28:18  \n2     Family diner. Had the buffet. Eclectic assortm... 2014-02-05 20:30:30  \n3     Wow!  Yummy, different,  delicious.   Our favo... 2015-01-04 00:01:03  \n4     Cute interior and owner (?) gave us tour of up... 2017-01-14 20:54:15  \n...                                                 ...                 ...  \n9995  Excellent food and service. The place is funct... 2018-06-26 17:41:31  \n9996  Just about to get tucked into a meatloaf that ... 2018-01-09 20:26:13  \n9997  Outstanding customer service! And my car is dr... 2015-04-01 21:50:28  \n9998  I and my husband went here for Dinner one day ... 2015-06-08 19:32:26  \n9999  I saw Big Data when they came to town at the K... 2015-08-06 23:16:58  \n\n[10000 rows x 9 columns]",
      "text/html": "<div>\n<style scoped>\n    .dataframe tbody tr th:only-of-type {\n        vertical-align: middle;\n    }\n\n    .dataframe tbody tr th {\n        vertical-align: top;\n    }\n\n    .dataframe thead th {\n        text-align: right;\n    }\n</style>\n<table border=\"1\" class=\"dataframe\">\n  <thead>\n    <tr style=\"text-align: right;\">\n      <th></th>\n      <th>review_id</th>\n      <th>user_id</th>\n      <th>business_id</th>\n      <th>stars</th>\n      <th>useful</th>\n      <th>funny</th>\n      <th>cool</th>\n      <th>text</th>\n      <th>date</th>\n    </tr>\n  </thead>\n  <tbody>\n    <tr>\n      <th>0</th>\n      <td>KU_O5udG6zpxOg-VcAEodg</td>\n      <td>mh_-eMZ6K5RLWhZyISBhwA</td>\n      <td>XQfwVwDr-v0ZS3_CbbE5Xw</td>\n      <td>3</td>\n      <td>0</td>\n      <td>0</td>\n      <td>0</td>\n      <td>If you decide to eat here, just be aware it is...</td>\n      <td>2018-07-07 22:09:11</td>\n    </tr>\n    <tr>\n      <th>1</th>\n      <td>BiTunyQ73aT9WBnpR9DZGw</td>\n      <td>OyoGAe7OKpv6SyGZT5g77Q</td>\n      <td>7ATYjTIgM3jUlt4UM3IypQ</td>\n      <td>5</td>\n      <td>1</td>\n      <td>0</td>\n      <td>1</td>\n      <td>I've taken a lot of spin classes over the year...</td>\n      <td>2012-01-03 15:28:18</td>\n    </tr>\n    <tr>\n      <th>2</th>\n      <td>saUsX_uimxRlCVr67Z4Jig</td>\n      <td>8g_iMtfSiwikVnbP2etR0A</td>\n      <td>YjUWPpI6HXG530lwP-fb2A</td>\n      <td>3</td>\n      <td>0</td>\n      <td>0</td>\n      <td>0</td>\n      <td>Family diner. Had the buffet. Eclectic assortm...</td>\n      <td>2014-02-05 20:30:30</td>\n    </tr>\n    <tr>\n      <th>3</th>\n      <td>AqPFMleE6RsU23_auESxiA</td>\n      <td>_7bHUi9Uuf5__HHc_Q8guQ</td>\n      <td>kxX2SOes4o-D3ZQBkiMRfA</td>\n      <td>5</td>\n      <td>1</td>\n      <td>0</td>\n      <td>1</td>\n      <td>Wow!  Yummy, different,  delicious.   Our favo...</td>\n      <td>2015-01-04 00:01:03</td>\n    </tr>\n    <tr>\n      <th>4</th>\n      <td>Sx8TMOWLNuJBWer-0pcmoA</td>\n      <td>bcjbaE6dDog4jkNY91ncLQ</td>\n      <td>e4Vwtrqf-wpJfwesgvdgxQ</td>\n      <td>4</td>\n      <td>1</td>\n      <td>0</td>\n      <td>1</td>\n      <td>Cute interior and owner (?) gave us tour of up...</td>\n      <td>2017-01-14 20:54:15</td>\n    </tr>\n    <tr>\n      <th>...</th>\n      <td>...</td>\n      <td>...</td>\n      <td>...</td>\n      <td>...</td>\n      <td>...</td>\n      <td>...</td>\n      <td>...</td>\n      <td>...</td>\n      <td>...</td>\n    </tr>\n    <tr>\n      <th>9995</th>\n      <td>ZcBtCA9jGhLfakf1jJ2BAg</td>\n      <td>yab1cq5yzrTHzoyz8LYqYQ</td>\n      <td>1-z7wd860Rii4kbEMCT8DA</td>\n      <td>5</td>\n      <td>0</td>\n      <td>0</td>\n      <td>0</td>\n      <td>Excellent food and service. The place is funct...</td>\n      <td>2018-06-26 17:41:31</td>\n    </tr>\n    <tr>\n      <th>9996</th>\n      <td>UIkEO-10J6Y99IhRqUflvg</td>\n      <td>lYAmgL_l7A3MPFYe1DYKrw</td>\n      <td>EpREWeEpmR8f1qLHzzF0AA</td>\n      <td>5</td>\n      <td>0</td>\n      <td>1</td>\n      <td>0</td>\n      <td>Just about to get tucked into a meatloaf that ...</td>\n      <td>2018-01-09 20:26:13</td>\n    </tr>\n    <tr>\n      <th>9997</th>\n      <td>S-NQM3Axcg8JS3MXHUIvyw</td>\n      <td>rE2WwfgJbYfvDwBlgq__dQ</td>\n      <td>dvidzWEPgTQPeBc8CUV2OQ</td>\n      <td>5</td>\n      <td>0</td>\n      <td>0</td>\n      <td>0</td>\n      <td>Outstanding customer service! And my car is dr...</td>\n      <td>2015-04-01 21:50:28</td>\n    </tr>\n    <tr>\n      <th>9998</th>\n      <td>ME79YrEhm2xe4IQy_0zkGw</td>\n      <td>OnIklvzKDpk1BduC84TrTA</td>\n      <td>2XYPFRm7teCUr3eGsB2-qw</td>\n      <td>5</td>\n      <td>0</td>\n      <td>0</td>\n      <td>0</td>\n      <td>I and my husband went here for Dinner one day ...</td>\n      <td>2015-06-08 19:32:26</td>\n    </tr>\n    <tr>\n      <th>9999</th>\n      <td>05oKtleZ-JFGD6qt47VQcg</td>\n      <td>p0MhNWkwOPBfRo8qUb7faw</td>\n      <td>rnaE88k8yV5pFAGJeiIK4Q</td>\n      <td>2</td>\n      <td>0</td>\n      <td>0</td>\n      <td>0</td>\n      <td>I saw Big Data when they came to town at the K...</td>\n      <td>2015-08-06 23:16:58</td>\n    </tr>\n  </tbody>\n</table>\n<p>10000 rows × 9 columns</p>\n</div>"
     },
     "metadata": {},
     "output_type": "display_data"
    },
    {
     "name": "stdout",
     "output_type": "stream",
     "text": [
      "<class 'pandas.core.frame.DataFrame'>\n",
      "RangeIndex: 10000 entries, 0 to 9999\n",
      "Data columns (total 9 columns):\n",
      " #   Column       Non-Null Count  Dtype         \n",
      "---  ------       --------------  -----         \n",
      " 0   review_id    10000 non-null  object        \n",
      " 1   user_id      10000 non-null  object        \n",
      " 2   business_id  10000 non-null  object        \n",
      " 3   stars        10000 non-null  int64         \n",
      " 4   useful       10000 non-null  int64         \n",
      " 5   funny        10000 non-null  int64         \n",
      " 6   cool         10000 non-null  int64         \n",
      " 7   text         10000 non-null  object        \n",
      " 8   date         10000 non-null  datetime64[ns]\n",
      "dtypes: datetime64[ns](1), int64(4), object(4)\n",
      "memory usage: 703.2+ KB\n"
     ]
    }
   ],
   "source": [
    "#BUSINESS\n",
    "# data path\n",
    "business_json_path = '../data/yelp_academic_dataset_business.json'\n",
    "#create new df\n",
    "business_df = pd.DataFrame()\n",
    "\n",
    "#read json file in a path\n",
    "read_df_b = pd.read_json(business_json_path, lines=True, chunksize = 10000)\n",
    "\n",
    "#storing each line of json into the new df to get a csv - runs in a few seconds\n",
    "for i in read_df_b:\n",
    "\n",
    "    business_df = i\n",
    "\n",
    "    break\n",
    "\n",
    "#info of df\n",
    "#business_df.info()\n",
    "#business_df.shape\n",
    "#business_df\n",
    "#CLEANED BUSINESS MISSING VALUES\n",
    "business_df_copy = business_df.copy()\n",
    "display(business_df_copy)\n",
    "\n",
    "business_df_copy['categories'].isna().sum()\n",
    "cats = business_df_copy['categories'].dropna().isna().sum()\n",
    "#cats\n",
    "\n",
    "\n",
    "#data path\n",
    "review_json_path = '../data/yelp_academic_dataset_review.json'\n",
    "\n",
    "#create new df\n",
    "review_df = pd.DataFrame()\n",
    "\n",
    "#read json file in a path\n",
    "read_df_r = pd.read_json(review_json_path, lines=True, chunksize = 10000)\n",
    "\n",
    "#storing each line of json into the new df to get a csv - runs in a few seconds\n",
    "for i in read_df_r:\n",
    "    review_df = i\n",
    "    break\n",
    "\n",
    "#info of df\n",
    "display(review_df)\n",
    "c= review_df.isna().sum()\n",
    "\n",
    "review_df_copy = review_df.copy()\n",
    "\n",
    "\n",
    "review_df_copy.info()\n",
    "\n"
   ],
   "metadata": {
    "collapsed": false
   }
  },
  {
   "cell_type": "markdown",
   "source": [
    "# 2. JOINED DATASET"
   ],
   "metadata": {
    "collapsed": false
   }
  },
  {
   "cell_type": "code",
   "execution_count": 3,
   "outputs": [
    {
     "data": {
      "text/plain": "                 business_id                           name        address  \\\n0     MTSW4McQd7CbVtyjqoe9mw             St Honore Pastries    935 Race St   \n1     0bPLkL0QhhPO5kt1_EXmNQ           Zio's Italian Market  2575 E Bay Dr   \n2     0bPLkL0QhhPO5kt1_EXmNQ           Zio's Italian Market  2575 E Bay Dr   \n3     MUTTqe8uqyMdBl186RmNeA                       Tuna Bar    205 Race St   \n4     MUTTqe8uqyMdBl186RmNeA                       Tuna Bar    205 Race St   \n...                      ...                            ...            ...   \n4840  Yv6HUVu7fRMnt_NtGdVQBw  Las Palmas Mexican Restaurant  1905 Hayes St   \n4841  Yv6HUVu7fRMnt_NtGdVQBw  Las Palmas Mexican Restaurant  1905 Hayes St   \n4842  Yv6HUVu7fRMnt_NtGdVQBw  Las Palmas Mexican Restaurant  1905 Hayes St   \n4843  Yv6HUVu7fRMnt_NtGdVQBw  Las Palmas Mexican Restaurant  1905 Hayes St   \n4844  Yv6HUVu7fRMnt_NtGdVQBw  Las Palmas Mexican Restaurant  1905 Hayes St   \n\n              city state postal_code   latitude  longitude  stars_x  \\\n0     Philadelphia    PA       19107  39.955505 -75.155564      4.0   \n1            Largo    FL       33771  27.916116 -82.760461      4.5   \n2            Largo    FL       33771  27.916116 -82.760461      4.5   \n3     Philadelphia    PA       19106  39.953949 -75.143226      4.0   \n4     Philadelphia    PA       19106  39.953949 -75.143226      4.0   \n...            ...   ...         ...        ...        ...      ...   \n4840     Nashville    TN       37203  36.152919 -86.798455      3.5   \n4841     Nashville    TN       37203  36.152919 -86.798455      3.5   \n4842     Nashville    TN       37203  36.152919 -86.798455      3.5   \n4843     Nashville    TN       37203  36.152919 -86.798455      3.5   \n4844     Nashville    TN       37203  36.152919 -86.798455      3.5   \n\n      review_count  ...                                         attributes  \\\n0               80  ...  {'RestaurantsDelivery': 'False', 'OutdoorSeati...   \n1              100  ...  {'OutdoorSeating': 'False', 'RestaurantsGoodFo...   \n2              100  ...  {'OutdoorSeating': 'False', 'RestaurantsGoodFo...   \n3              245  ...  {'RestaurantsReservations': 'True', 'Restauran...   \n4              245  ...  {'RestaurantsReservations': 'True', 'Restauran...   \n...            ...  ...                                                ...   \n4840           158  ...  {'BusinessAcceptsCreditCards': 'True', 'Restau...   \n4841           158  ...  {'BusinessAcceptsCreditCards': 'True', 'Restau...   \n4842           158  ...  {'BusinessAcceptsCreditCards': 'True', 'Restau...   \n4843           158  ...  {'BusinessAcceptsCreditCards': 'True', 'Restau...   \n4844           158  ...  {'BusinessAcceptsCreditCards': 'True', 'Restau...   \n\n                                             categories  \\\n0     Restaurants, Food, Bubble Tea, Coffee & Tea, B...   \n1           Food, Delis, Italian, Bakeries, Restaurants   \n2           Food, Delis, Italian, Bakeries, Restaurants   \n3                     Sushi Bars, Restaurants, Japanese   \n4                     Sushi Bars, Restaurants, Japanese   \n...                                                 ...   \n4840                               Restaurants, Mexican   \n4841                               Restaurants, Mexican   \n4842                               Restaurants, Mexican   \n4843                               Restaurants, Mexican   \n4844                               Restaurants, Mexican   \n\n                   review_id                 user_id stars_y  useful  funny  \\\n0     BXQcBN0iAi1lAUxibGLFzA  6_SpY41LIHZuIaiDs5FMKA       4       0      0   \n1     oTTuahWNWzX_018P6O6_2g  z1Dfj8kz3KCArkXaIyaBIA       1       6      1   \n2     R7DC4sHDcklrk1s1K93FDA  HvgKiuV36e9SzNqeA5zOfA       4       0      0   \n3     XYaDbPKyJAu4k2aUOIth5g  Qsk0aTclam9W_DIK6bx42A       5       0      0   \n4     tpLolBuBTx_Ncx3RSf7WBw  TJW1aEzjhaxbD10fjhokfQ       1       0      0   \n...                      ...                     ...     ...     ...    ...   \n4840  p0hyF98o6SSbCTtTcYRXBQ  ipNdkt9x5UEs7YeH9l61sA       1       3      0   \n4841  0uD1hdeUNPyfAaGOKpMMeQ  DWGywipRRede0hIpZ4tDag       5       0      0   \n4842  dZekZLTdAvIYD4lQnMLIjw  PIVuLifCMnRpwiEFpIQLdg       4       1      0   \n4843  oG4T41u57GeTqlt_yGDmrg  _R40mCFgPGWXNrlLvXZhsQ       5       0      0   \n4844  fxNp2WHz-0_j3kJnM4YY6Q  7bAQ2RIC5vksuhDTPXYM1w       5       0      0   \n\n      cool                                               text  \\\n0        1  This is nice little Chinese bakery in the hear...   \n1        0  The worst Chicken Parm. Sandwich I've ever eat...   \n2        0  Zio's, previously known as Cesarina's is a lar...   \n3        0  Stopped in to check out this new spot around t...   \n4        0  I live in the neighborhood and used to order a...   \n...    ...                                                ...   \n4840     0  AWFUL. I have been there more than once, and i...   \n4841     0  This is one of our favorite spots in Nashville...   \n4842     1  Hello again yelpers!\\n\\nI gotta say, this is a...   \n4843     0  Always good food! The grilled fish is one of o...   \n4844     0  Went here for a late dinner (probably 7:15) an...   \n\n                    date  \n0    2014-05-26 01:09:53  \n1    2014-05-25 21:52:30  \n2    2018-07-26 16:25:04  \n3    2017-12-16 00:13:06  \n4    2018-04-28 00:46:05  \n...                  ...  \n4840 2017-12-16 03:13:19  \n4841 2018-06-19 18:16:51  \n4842 2016-10-13 21:05:52  \n4843 2018-03-23 15:07:40  \n4844 2016-08-25 19:16:35  \n\n[4845 rows x 21 columns]",
      "text/html": "<div>\n<style scoped>\n    .dataframe tbody tr th:only-of-type {\n        vertical-align: middle;\n    }\n\n    .dataframe tbody tr th {\n        vertical-align: top;\n    }\n\n    .dataframe thead th {\n        text-align: right;\n    }\n</style>\n<table border=\"1\" class=\"dataframe\">\n  <thead>\n    <tr style=\"text-align: right;\">\n      <th></th>\n      <th>business_id</th>\n      <th>name</th>\n      <th>address</th>\n      <th>city</th>\n      <th>state</th>\n      <th>postal_code</th>\n      <th>latitude</th>\n      <th>longitude</th>\n      <th>stars_x</th>\n      <th>review_count</th>\n      <th>...</th>\n      <th>attributes</th>\n      <th>categories</th>\n      <th>review_id</th>\n      <th>user_id</th>\n      <th>stars_y</th>\n      <th>useful</th>\n      <th>funny</th>\n      <th>cool</th>\n      <th>text</th>\n      <th>date</th>\n    </tr>\n  </thead>\n  <tbody>\n    <tr>\n      <th>0</th>\n      <td>MTSW4McQd7CbVtyjqoe9mw</td>\n      <td>St Honore Pastries</td>\n      <td>935 Race St</td>\n      <td>Philadelphia</td>\n      <td>PA</td>\n      <td>19107</td>\n      <td>39.955505</td>\n      <td>-75.155564</td>\n      <td>4.0</td>\n      <td>80</td>\n      <td>...</td>\n      <td>{'RestaurantsDelivery': 'False', 'OutdoorSeati...</td>\n      <td>Restaurants, Food, Bubble Tea, Coffee &amp; Tea, B...</td>\n      <td>BXQcBN0iAi1lAUxibGLFzA</td>\n      <td>6_SpY41LIHZuIaiDs5FMKA</td>\n      <td>4</td>\n      <td>0</td>\n      <td>0</td>\n      <td>1</td>\n      <td>This is nice little Chinese bakery in the hear...</td>\n      <td>2014-05-26 01:09:53</td>\n    </tr>\n    <tr>\n      <th>1</th>\n      <td>0bPLkL0QhhPO5kt1_EXmNQ</td>\n      <td>Zio's Italian Market</td>\n      <td>2575 E Bay Dr</td>\n      <td>Largo</td>\n      <td>FL</td>\n      <td>33771</td>\n      <td>27.916116</td>\n      <td>-82.760461</td>\n      <td>4.5</td>\n      <td>100</td>\n      <td>...</td>\n      <td>{'OutdoorSeating': 'False', 'RestaurantsGoodFo...</td>\n      <td>Food, Delis, Italian, Bakeries, Restaurants</td>\n      <td>oTTuahWNWzX_018P6O6_2g</td>\n      <td>z1Dfj8kz3KCArkXaIyaBIA</td>\n      <td>1</td>\n      <td>6</td>\n      <td>1</td>\n      <td>0</td>\n      <td>The worst Chicken Parm. Sandwich I've ever eat...</td>\n      <td>2014-05-25 21:52:30</td>\n    </tr>\n    <tr>\n      <th>2</th>\n      <td>0bPLkL0QhhPO5kt1_EXmNQ</td>\n      <td>Zio's Italian Market</td>\n      <td>2575 E Bay Dr</td>\n      <td>Largo</td>\n      <td>FL</td>\n      <td>33771</td>\n      <td>27.916116</td>\n      <td>-82.760461</td>\n      <td>4.5</td>\n      <td>100</td>\n      <td>...</td>\n      <td>{'OutdoorSeating': 'False', 'RestaurantsGoodFo...</td>\n      <td>Food, Delis, Italian, Bakeries, Restaurants</td>\n      <td>R7DC4sHDcklrk1s1K93FDA</td>\n      <td>HvgKiuV36e9SzNqeA5zOfA</td>\n      <td>4</td>\n      <td>0</td>\n      <td>0</td>\n      <td>0</td>\n      <td>Zio's, previously known as Cesarina's is a lar...</td>\n      <td>2018-07-26 16:25:04</td>\n    </tr>\n    <tr>\n      <th>3</th>\n      <td>MUTTqe8uqyMdBl186RmNeA</td>\n      <td>Tuna Bar</td>\n      <td>205 Race St</td>\n      <td>Philadelphia</td>\n      <td>PA</td>\n      <td>19106</td>\n      <td>39.953949</td>\n      <td>-75.143226</td>\n      <td>4.0</td>\n      <td>245</td>\n      <td>...</td>\n      <td>{'RestaurantsReservations': 'True', 'Restauran...</td>\n      <td>Sushi Bars, Restaurants, Japanese</td>\n      <td>XYaDbPKyJAu4k2aUOIth5g</td>\n      <td>Qsk0aTclam9W_DIK6bx42A</td>\n      <td>5</td>\n      <td>0</td>\n      <td>0</td>\n      <td>0</td>\n      <td>Stopped in to check out this new spot around t...</td>\n      <td>2017-12-16 00:13:06</td>\n    </tr>\n    <tr>\n      <th>4</th>\n      <td>MUTTqe8uqyMdBl186RmNeA</td>\n      <td>Tuna Bar</td>\n      <td>205 Race St</td>\n      <td>Philadelphia</td>\n      <td>PA</td>\n      <td>19106</td>\n      <td>39.953949</td>\n      <td>-75.143226</td>\n      <td>4.0</td>\n      <td>245</td>\n      <td>...</td>\n      <td>{'RestaurantsReservations': 'True', 'Restauran...</td>\n      <td>Sushi Bars, Restaurants, Japanese</td>\n      <td>tpLolBuBTx_Ncx3RSf7WBw</td>\n      <td>TJW1aEzjhaxbD10fjhokfQ</td>\n      <td>1</td>\n      <td>0</td>\n      <td>0</td>\n      <td>0</td>\n      <td>I live in the neighborhood and used to order a...</td>\n      <td>2018-04-28 00:46:05</td>\n    </tr>\n    <tr>\n      <th>...</th>\n      <td>...</td>\n      <td>...</td>\n      <td>...</td>\n      <td>...</td>\n      <td>...</td>\n      <td>...</td>\n      <td>...</td>\n      <td>...</td>\n      <td>...</td>\n      <td>...</td>\n      <td>...</td>\n      <td>...</td>\n      <td>...</td>\n      <td>...</td>\n      <td>...</td>\n      <td>...</td>\n      <td>...</td>\n      <td>...</td>\n      <td>...</td>\n      <td>...</td>\n      <td>...</td>\n    </tr>\n    <tr>\n      <th>4840</th>\n      <td>Yv6HUVu7fRMnt_NtGdVQBw</td>\n      <td>Las Palmas Mexican Restaurant</td>\n      <td>1905 Hayes St</td>\n      <td>Nashville</td>\n      <td>TN</td>\n      <td>37203</td>\n      <td>36.152919</td>\n      <td>-86.798455</td>\n      <td>3.5</td>\n      <td>158</td>\n      <td>...</td>\n      <td>{'BusinessAcceptsCreditCards': 'True', 'Restau...</td>\n      <td>Restaurants, Mexican</td>\n      <td>p0hyF98o6SSbCTtTcYRXBQ</td>\n      <td>ipNdkt9x5UEs7YeH9l61sA</td>\n      <td>1</td>\n      <td>3</td>\n      <td>0</td>\n      <td>0</td>\n      <td>AWFUL. I have been there more than once, and i...</td>\n      <td>2017-12-16 03:13:19</td>\n    </tr>\n    <tr>\n      <th>4841</th>\n      <td>Yv6HUVu7fRMnt_NtGdVQBw</td>\n      <td>Las Palmas Mexican Restaurant</td>\n      <td>1905 Hayes St</td>\n      <td>Nashville</td>\n      <td>TN</td>\n      <td>37203</td>\n      <td>36.152919</td>\n      <td>-86.798455</td>\n      <td>3.5</td>\n      <td>158</td>\n      <td>...</td>\n      <td>{'BusinessAcceptsCreditCards': 'True', 'Restau...</td>\n      <td>Restaurants, Mexican</td>\n      <td>0uD1hdeUNPyfAaGOKpMMeQ</td>\n      <td>DWGywipRRede0hIpZ4tDag</td>\n      <td>5</td>\n      <td>0</td>\n      <td>0</td>\n      <td>0</td>\n      <td>This is one of our favorite spots in Nashville...</td>\n      <td>2018-06-19 18:16:51</td>\n    </tr>\n    <tr>\n      <th>4842</th>\n      <td>Yv6HUVu7fRMnt_NtGdVQBw</td>\n      <td>Las Palmas Mexican Restaurant</td>\n      <td>1905 Hayes St</td>\n      <td>Nashville</td>\n      <td>TN</td>\n      <td>37203</td>\n      <td>36.152919</td>\n      <td>-86.798455</td>\n      <td>3.5</td>\n      <td>158</td>\n      <td>...</td>\n      <td>{'BusinessAcceptsCreditCards': 'True', 'Restau...</td>\n      <td>Restaurants, Mexican</td>\n      <td>dZekZLTdAvIYD4lQnMLIjw</td>\n      <td>PIVuLifCMnRpwiEFpIQLdg</td>\n      <td>4</td>\n      <td>1</td>\n      <td>0</td>\n      <td>1</td>\n      <td>Hello again yelpers!\\n\\nI gotta say, this is a...</td>\n      <td>2016-10-13 21:05:52</td>\n    </tr>\n    <tr>\n      <th>4843</th>\n      <td>Yv6HUVu7fRMnt_NtGdVQBw</td>\n      <td>Las Palmas Mexican Restaurant</td>\n      <td>1905 Hayes St</td>\n      <td>Nashville</td>\n      <td>TN</td>\n      <td>37203</td>\n      <td>36.152919</td>\n      <td>-86.798455</td>\n      <td>3.5</td>\n      <td>158</td>\n      <td>...</td>\n      <td>{'BusinessAcceptsCreditCards': 'True', 'Restau...</td>\n      <td>Restaurants, Mexican</td>\n      <td>oG4T41u57GeTqlt_yGDmrg</td>\n      <td>_R40mCFgPGWXNrlLvXZhsQ</td>\n      <td>5</td>\n      <td>0</td>\n      <td>0</td>\n      <td>0</td>\n      <td>Always good food! The grilled fish is one of o...</td>\n      <td>2018-03-23 15:07:40</td>\n    </tr>\n    <tr>\n      <th>4844</th>\n      <td>Yv6HUVu7fRMnt_NtGdVQBw</td>\n      <td>Las Palmas Mexican Restaurant</td>\n      <td>1905 Hayes St</td>\n      <td>Nashville</td>\n      <td>TN</td>\n      <td>37203</td>\n      <td>36.152919</td>\n      <td>-86.798455</td>\n      <td>3.5</td>\n      <td>158</td>\n      <td>...</td>\n      <td>{'BusinessAcceptsCreditCards': 'True', 'Restau...</td>\n      <td>Restaurants, Mexican</td>\n      <td>fxNp2WHz-0_j3kJnM4YY6Q</td>\n      <td>7bAQ2RIC5vksuhDTPXYM1w</td>\n      <td>5</td>\n      <td>0</td>\n      <td>0</td>\n      <td>0</td>\n      <td>Went here for a late dinner (probably 7:15) an...</td>\n      <td>2016-08-25 19:16:35</td>\n    </tr>\n  </tbody>\n</table>\n<p>4845 rows × 21 columns</p>\n</div>"
     },
     "execution_count": 3,
     "metadata": {},
     "output_type": "execute_result"
    }
   ],
   "source": [
    "#run for text analysis\n",
    "business_df.isnull().sum()\n",
    "business_df_copy2 = business_df.copy()\n",
    "business_df_copy3 = business_df_copy2.iloc[:,0:13]\n",
    "\n",
    "#business_df_copy.dropna(inplace=True)\n",
    "#business_df_copy.isna().sum()\n",
    "business_df_copy3.columns\n",
    "business_df_copy3.dropna(inplace=True)\n",
    "business_df_copy3.shape\n",
    "\n",
    "#run for text analysis\n",
    "#filtering just categories that are restaurants to work in my dataset\n",
    "business_df_new=business_df_copy3[business_df_copy3['categories'].str.contains(\"Restaurants\")]\n",
    "#business_df_new.info()\n",
    "business_df_new.shape\n",
    "#business_df_new.isnull().sum()\n",
    "joined_df = pd.merge(business_df_new, review_df_copy,how='inner',on = 'business_id')\n",
    "#joined_df.info()\n",
    "#joined_df.isnull().sum()\n",
    "joined_df\n",
    "\n",
    "#print(user_df.shape)\n",
    "\n",
    "\n",
    "#business_df_new.head()\n",
    "#review_df_copy.head()\n",
    "# string_text = []\n",
    "# for word in review_text:\n",
    "#     string_text.append(word)\n",
    "#\n",
    "# string_text =' '.join(string_text).replace(\" '\", '')\n",
    "\n",
    "#print(string_text)\n",
    "#len(string_text) #2544374\n"
   ],
   "metadata": {
    "collapsed": false
   }
  },
  {
   "cell_type": "markdown",
   "source": [
    "# 3. TEXT PROCESSING"
   ],
   "metadata": {
    "collapsed": false
   }
  },
  {
   "cell_type": "code",
   "execution_count": 4,
   "outputs": [],
   "source": [
    "table = str.maketrans('', '', string.punctuation)#in place of punctuation replaces with space or removes it\n",
    "def text_process(mess):\n",
    "    words = re.split(r'\\W+', mess)\n",
    "    nopunc = [w.translate(table) for w in words]\n",
    "\n",
    "    nostop =  ' '.join([word for word in nopunc if word.lower() not in stopwords.words('english')])\n",
    "    return nostop\n"
   ],
   "metadata": {
    "collapsed": false
   }
  },
  {
   "cell_type": "code",
   "execution_count": null,
   "outputs": [],
   "source": [
    "joined_df['text'] = joined_df['text'].apply(lambda text:text_process(text))\n",
    "joined_df['text']"
   ],
   "metadata": {
    "collapsed": false,
    "pycharm": {
     "is_executing": true
    }
   }
  },
  {
   "cell_type": "code",
   "execution_count": null,
   "outputs": [],
   "source": [
    "lemmatizer = WordNetLemmatizer()\n",
    "\n",
    "# function to convert nltk tag to wordnet tag\n",
    "def nltk_tag_to_wordnet_tag(nltk_tag):\n",
    "    if nltk_tag.startswith('J'):\n",
    "        return wordnet.ADJ\n",
    "    elif nltk_tag.startswith('V'):\n",
    "        return wordnet.VERB\n",
    "    elif nltk_tag.startswith('N'):\n",
    "        return wordnet.NOUN\n",
    "    elif nltk_tag.startswith('R'):\n",
    "        return wordnet.ADV\n",
    "    else:\n",
    "        return None\n",
    "\n",
    "def lemmatize_sentence(sentence):\n",
    "    #tokenize the sentence and find the POS tag for each token\n",
    "    nltk_tagged = nltk.pos_tag(nltk.word_tokenize(sentence))\n",
    "    #tuple of (token, wordnet_tag)\n",
    "    wordnet_tagged = map(lambda x: (x[0], nltk_tag_to_wordnet_tag(x[1])), nltk_tagged)\n",
    "    lemmatized_sentence = []\n",
    "    for word, tag in wordnet_tagged:\n",
    "        if tag is None:\n",
    "            #if there is no available tag, append the token as is\n",
    "            lemmatized_sentence.append(word)\n",
    "        else:\n",
    "            #else use the tag to lemmatize the token\n",
    "            lemmatized_sentence.append(lemmatizer.lemmatize(word, tag))\n",
    "    return \" \".join(lemmatized_sentence)"
   ],
   "metadata": {
    "collapsed": false,
    "pycharm": {
     "is_executing": true
    }
   }
  },
  {
   "cell_type": "code",
   "execution_count": null,
   "outputs": [],
   "source": [
    "joined_df['text'] = joined_df['text'].apply(lambda text:lemmatize_sentence(text))#.apply(lambda text:lemmatize_sentence(sentence))\n",
    "joined_df['text']"
   ],
   "metadata": {
    "collapsed": false,
    "pycharm": {
     "is_executing": true
    }
   }
  }
 ],
 "metadata": {
  "kernelspec": {
   "display_name": "Python 3",
   "language": "python",
   "name": "python3"
  },
  "language_info": {
   "codemirror_mode": {
    "name": "ipython",
    "version": 2
   },
   "file_extension": ".py",
   "mimetype": "text/x-python",
   "name": "python",
   "nbconvert_exporter": "python",
   "pygments_lexer": "ipython2",
   "version": "2.7.6"
  }
 },
 "nbformat": 4,
 "nbformat_minor": 0
}
